{
  "nbformat": 4,
  "nbformat_minor": 0,
  "metadata": {
    "colab": {
      "name": "Untitled0.ipynb",
      "provenance": [],
      "collapsed_sections": [],
      "authorship_tag": "ABX9TyOYIPG02AJigVsKthcXof48",
      "include_colab_link": true
    },
    "kernelspec": {
      "name": "python3",
      "display_name": "Python 3"
    },
    "language_info": {
      "name": "python"
    }
  },
  "cells": [
    {
      "cell_type": "markdown",
      "metadata": {
        "id": "view-in-github",
        "colab_type": "text"
      },
      "source": [
        "<a href=\"https://colab.research.google.com/github/eduar06/LasActividadesVanAqui/blob/main/%20IA_Ejercicio1_Jose%20Eduardo_1863082.ipynb\" target=\"_parent\"><img src=\"https://colab.research.google.com/assets/colab-badge.svg\" alt=\"Open In Colab\"/></a>"
      ]
    },
    {
      "cell_type": "markdown",
      "source": [
        "A2: Ejercicios Básicos en Python \n",
        "JOSE EDUARDO MARTINEZ GONZALEZ\n",
        "1863082 SABADOS DE N1 A N3 "
      ],
      "metadata": {
        "id": "kkAG9eEI_r_X"
      }
    },
    {
      "cell_type": "code",
      "execution_count": 21,
      "metadata": {
        "colab": {
          "base_uri": "https://localhost:8080/"
        },
        "id": "6geFgR1J6pDZ",
        "outputId": "51b47d6d-3e68-402e-a1fc-ac237e6c00c4"
      },
      "outputs": [
        {
          "output_type": "stream",
          "name": "stdout",
          "text": [
            "DIME TU NOMBRE ana\n",
            "hola ana\n"
          ]
        }
      ],
      "source": [
        "# ejercicio 1 Escribe un programa que le pida al usuario por su nombre y que lo salude con su nombre, excepto si se llama “Ana”, “Juan”, y “Pedro\n",
        "\n",
        "msg=input('DIME TU NOMBRE ')\n",
        "if  msg!='pedro' or msg!='ana' or msg='juan':\n",
        "    print('no te puedo saludar')\n",
        "\n",
        "else: \n",
        "        print('hola',msg)"
      ]
    },
    {
      "cell_type": "code",
      "source": [
        "# EJERCICIO 2Escribe una función que regrese el último elemento de una lista y que revierta el orden de la lista e imprima la lista revertida.\n",
        "lista = [\"Hola\", \"a\", \"todos\", \"esto\", \"es\", \"un\", \"marco\"]\n",
        "\n",
        "print (lista[6])\n",
        "print (reversed(lista))\n"
      ],
      "metadata": {
        "colab": {
          "base_uri": "https://localhost:8080/"
        },
        "id": "-VeFv_cC_qwA",
        "outputId": "007defb0-90f5-4549-8fd1-7599ad544045"
      },
      "execution_count": 36,
      "outputs": [
        {
          "output_type": "stream",
          "name": "stdout",
          "text": [
            "marco\n",
            "<list_reverseiterator object at 0x7f1265523390>\n"
          ]
        }
      ]
    },
    {
      "cell_type": "code",
      "source": [
        "# ejercicio 3 3.Escribe una función que toma una lista de strings y los imprima línea por línea en un marco rectangular. Por ejemplo, la lista [“Hola”, “a”, “todos”, “esto”, “es”, “un”, “marco”] se imprime:\n",
        "lista = [\"Hola\", \"a\", \"todos\", \"esto\", \"es\", \"un\", \"marco\"]\n",
        "print('********')\n",
        "print ('*'\"{}\"'  *'.format(lista[0]))\n",
        "print ('*'\"{}\"'     *'.format(lista[1]))\n",
        "print ('*'\"{}\"' *'.format(lista[2]))\n",
        "print ('*'\"{}\"'  *'.format(lista[3]))\n",
        "print ('*'\"{}\"'    *'.format(lista[4]))\n",
        "print ('*'\"{}\"'    *'.format(lista[5]))\n",
        "print ('*'\"{}\"' *'.format(lista[6]))\n",
        "print('********')"
      ],
      "metadata": {
        "colab": {
          "base_uri": "https://localhost:8080/"
        },
        "id": "IThPSpcQOGx6",
        "outputId": "9d5448e3-57a4-46e3-ecb8-644637a27a43"
      },
      "execution_count": 22,
      "outputs": [
        {
          "output_type": "stream",
          "name": "stdout",
          "text": [
            "********\n",
            "*Hola  *\n",
            "*a     *\n",
            "*todos *\n",
            "*esto  *\n",
            "*es    *\n",
            "*un    *\n",
            "*marco *\n",
            "********\n"
          ]
        }
      ]
    }
  ]
}